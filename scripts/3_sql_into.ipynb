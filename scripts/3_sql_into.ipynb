{
 "cells": [
  {
   "cell_type": "code",
   "execution_count": null,
   "id": "8ba3b9d0",
   "metadata": {},
   "outputs": [
    {
     "name": "stdout",
     "output_type": "stream",
     "text": [
      "Connection to the database established successfully.\n",
      "Connected successfully\n"
     ]
    },
    {
     "ename": "DuplicateDatabase",
     "evalue": "database \"sales\" already exists\n",
     "output_type": "error",
     "traceback": [
      "\u001b[1;31m---------------------------------------------------------------------------\u001b[0m",
      "\u001b[1;31mDuplicateDatabase\u001b[0m                         Traceback (most recent call last)",
      "Cell \u001b[1;32mIn[7], line 19\u001b[0m\n\u001b[0;32m     16\u001b[0m \u001b[38;5;28;01mexcept\u001b[39;00m \u001b[38;5;167;01mException\u001b[39;00m \u001b[38;5;28;01mas\u001b[39;00m e:\n\u001b[0;32m     17\u001b[0m     \u001b[38;5;28mprint\u001b[39m(\u001b[38;5;124mf\u001b[39m\u001b[38;5;124m\"\u001b[39m\u001b[38;5;124mConnection failed: \u001b[39m\u001b[38;5;132;01m{\u001b[39;00me\u001b[38;5;132;01m}\u001b[39;00m\u001b[38;5;124m\"\u001b[39m)\n\u001b[1;32m---> 19\u001b[0m \u001b[43mcursor\u001b[49m\u001b[38;5;241;43m.\u001b[39;49m\u001b[43mexecute\u001b[49m\u001b[43m(\u001b[49m\u001b[38;5;124;43m\"\u001b[39;49m\u001b[38;5;124;43mCREATE DATABASE sales;\u001b[39;49m\u001b[38;5;124;43m\"\u001b[39;49m\u001b[43m)\u001b[49m\n\u001b[0;32m     20\u001b[0m conn\u001b[38;5;241m.\u001b[39mclose()\n\u001b[0;32m     21\u001b[0m \u001b[38;5;28mprint\u001b[39m(\u001b[38;5;124m\"\u001b[39m\u001b[38;5;124mDatabase created successfully.\u001b[39m\u001b[38;5;124m\"\u001b[39m)\n",
      "\u001b[1;31mDuplicateDatabase\u001b[0m: database \"sales\" already exists\n"
     ]
    }
   ],
   "source": [
    "import psycopg2\n",
    "import pandas as pd \n",
    "\n",
    "try:\n",
    "    conn=psycopg2.connect(\n",
    "        host=\"localhost\",\n",
    "        database=\"sales\",\n",
    "        user=\"postgres\",\n",
    "        password=\"password_here\" # replace with your actual password\n",
    "    )\n",
    "    print(\"Connection to the database established successfully.\")\n",
    "    \n",
    "    conn.autocommit = True\n",
    "    cursor = conn.cursor()\n",
    "    print(\"Connected successfully\")\n",
    "except Exception as e:\n",
    "    print(f\"Connection failed: {e}\")\n",
    "\n",
    "cursor.execute(\"CREATE DATABASE sales;\")\n",
    "conn.close()\n",
    "print(\"Database created successfully.\")\n",
    "\n",
    "\n"
   ]
  },
  {
   "cell_type": "code",
   "execution_count": 15,
   "id": "6f48fcef",
   "metadata": {},
   "outputs": [
    {
     "name": "stdout",
     "output_type": "stream",
     "text": [
      "Table created successfully.\n"
     ]
    }
   ],
   "source": [
    "import psycopg2\n",
    "\n",
    "conn=psycopg2.connect(\n",
    "    host=\"localhost\",\n",
    "    database=\"sales\",\n",
    "    user=\"postgres\",\n",
    "    password=\"1233\"\n",
    ")\n",
    "cursor = conn.cursor()  \n",
    "cursor.execute(\"\"\"CREATE TABLE sales_data (\n",
    "    id INT GENERATED ALWAYS AS IDENTITY PRIMARY KEY,\n",
    "    invoice_no INT,\n",
    "    stock_code VARCHAR(50),\n",
    "    description VARCHAR(255),\n",
    "    quantity INT,\n",
    "    invoice_date timestamp, \n",
    "    unit_price MONEY, \n",
    "    customer_id INT,\n",
    "    country VARCHAR(100));\"\"\")\n",
    "\n",
    "conn.commit()\n",
    "print(\"Table created successfully.\")\n"
   ]
  },
  {
   "cell_type": "code",
   "execution_count": null,
   "id": "e2ef8581",
   "metadata": {},
   "outputs": [
    {
     "ename": "InFailedSqlTransaction",
     "evalue": "current transaction is aborted, commands ignored until end of transaction block\n",
     "output_type": "error",
     "traceback": [
      "\u001b[1;31m---------------------------------------------------------------------------\u001b[0m",
      "\u001b[1;31mInFailedSqlTransaction\u001b[0m                    Traceback (most recent call last)",
      "Cell \u001b[1;32mIn[13], line 1\u001b[0m\n\u001b[1;32m----> 1\u001b[0m \u001b[43mcursor\u001b[49m\u001b[38;5;241;43m.\u001b[39;49m\u001b[43mexecute\u001b[49m\u001b[43m(\u001b[49m\u001b[38;5;124;43m\"\"\"\u001b[39;49m\u001b[38;5;124;43mCREATE TABLE sales_data (\u001b[39;49m\n\u001b[0;32m      2\u001b[0m \u001b[38;5;124;43m    id INT GENERATED ALWAYS AS IDENTITY PRIMARY KEY,\u001b[39;49m\n\u001b[0;32m      3\u001b[0m \u001b[38;5;124;43m    invoice_no INT,\u001b[39;49m\n\u001b[0;32m      4\u001b[0m \u001b[38;5;124;43m    stock_code VARCHAR(50),\u001b[39;49m\n\u001b[0;32m      5\u001b[0m \u001b[38;5;124;43m    description VARCHAR(255),\u001b[39;49m\n\u001b[0;32m      6\u001b[0m \u001b[38;5;124;43m    quantity INT,\u001b[39;49m\n\u001b[0;32m      7\u001b[0m \u001b[38;5;124;43m    invoice_date DATETIME, \u001b[39;49m\n\u001b[0;32m      8\u001b[0m \u001b[38;5;124;43m    unit_price MONEY, \u001b[39;49m\n\u001b[0;32m      9\u001b[0m \u001b[38;5;124;43m    customer_id INT,\u001b[39;49m\n\u001b[0;32m     10\u001b[0m \u001b[38;5;124;43m    country VARCHAR(100));\u001b[39;49m\u001b[38;5;124;43m\"\"\"\u001b[39;49m\u001b[43m)\u001b[49m\n\u001b[0;32m     12\u001b[0m conn\u001b[38;5;241m.\u001b[39mcommit()\n\u001b[0;32m     13\u001b[0m \u001b[38;5;28mprint\u001b[39m(\u001b[38;5;124m\"\u001b[39m\u001b[38;5;124mTable created successfully.\u001b[39m\u001b[38;5;124m\"\u001b[39m)\n",
      "\u001b[1;31mInFailedSqlTransaction\u001b[0m: current transaction is aborted, commands ignored until end of transaction block\n"
     ]
    }
   ],
   "source": [
    "\n",
    "\n",
    "\n"
   ]
  },
  {
   "cell_type": "markdown",
   "id": "1d7ef52c",
   "metadata": {},
   "source": [
    "-- Create database and tables\n",
    "\n",
    "CREATE DATABASE sales;\n",
    "USE sales;\n",
    "\n",
    "CREATE TABLE sales_data (\n",
    "    id INT AUTO_INCREMENT PRIMARY KEY,\n",
    "    invoice_no INT,\n",
    "    stock_code VARCHAR(50),\n",
    "    description VARCHAR(255),\n",
    "    quantity INT,\n",
    "    invoice_date DATETIME, \n",
    "    unit_price MONEY, \n",
    "    customer_id INT,\n",
    "    country VARCHAR(100)\n",
    ");\n",
    "\n",
    "\n",
    "in sql bash\n",
    "\" \\copy sales_data(invoice_no,stock_code,description,quantity,invoice_date,unit_price,customer_id,country) from 'C:\\Users\\oktaw\\sales\\data\\cleaned\\data_cleaned.csv' with(format csv,header true);\"\n",
    "world"
   ]
  },
  {
   "cell_type": "code",
   "execution_count": 2,
   "id": "adaa94f0",
   "metadata": {},
   "outputs": [],
   "source": [
    "input_path = 'C:/Users/oktaw/sales/data/cleaned/world_country_stats_cleaned.csv'\n",
    "output_path = 'C:/Users/oktaw/sales/data/cleaned/world_country_stats_utf8.csv'\n",
    "\n",
    "with open(input_path, 'rb') as infile:\n",
    "    raw_bytes = infile.read()\n",
    "\n",
    "# Try decoding with CP1250, replacing bad characters\n",
    "clean_text = raw_bytes.decode('cp1250', errors='replace')\n",
    "\n",
    "with open(output_path, 'w', encoding='utf-8') as outfile:\n",
    "    outfile.write(clean_text)"
   ]
  },
  {
   "cell_type": "code",
   "execution_count": null,
   "id": "244e4a63",
   "metadata": {},
   "outputs": [],
   "source": [
    "with open('C:/Users/oktaw/sales/data/cleaned/world_country_stats_utf8.csv', 'r', encoding='utf-8') as infile, \\\n",
    "     open('./../data/cleaned/world_country_stats_cleaned_final.csv', 'w', encoding='utf-8') as outfile:\n",
    "    for line in infile:\n",
    "        if line.strip():  # skip blank lines\n",
    "            outfile.write(line)\n"
   ]
  },
  {
   "cell_type": "code",
   "execution_count": 15,
   "id": "8ddd939b",
   "metadata": {},
   "outputs": [],
   "source": [
    "input_path = 'C:/Users/oktaw/sales/data/cleaned/world_population_by_country_2023_cleaned.csv'\n",
    "output_path = 'C:/Users/oktaw/sales/data/cleaned/world_population_by_country_2023_cleanedd.csv'\n",
    "\n",
    "with open(input_path, 'rb') as infile:\n",
    "    raw_bytes = infile.read()\n",
    "\n",
    "# Try decoding with CP1250, replacing bad characters\n",
    "clean_text = raw_bytes.decode('cp1250', errors='replace')\n",
    "\n",
    "with open(output_path, 'w', encoding='utf-8') as outfile:\n",
    "    outfile.write(clean_text)\n",
    "\n",
    "with open('C:/Users/oktaw/sales/data/cleaned/world_population_by_country_2023_cleanedd.csv', 'r', encoding='utf-8') as infile, \\\n",
    "     open('./../data/cleaned/world_population_by_country_2023_cleaneddd.csv', 'w', encoding='utf-8') as outfile:\n",
    "    for line in infile:\n",
    "        if line.strip():  # skip blank lines\n",
    "            outfile.write(line)"
   ]
  }
 ],
 "metadata": {
  "kernelspec": {
   "display_name": "sales_sql",
   "language": "python",
   "name": "python3"
  },
  "language_info": {
   "codemirror_mode": {
    "name": "ipython",
    "version": 3
   },
   "file_extension": ".py",
   "mimetype": "text/x-python",
   "name": "python",
   "nbconvert_exporter": "python",
   "pygments_lexer": "ipython3",
   "version": "3.8.20"
  }
 },
 "nbformat": 4,
 "nbformat_minor": 5
}

{
 "cells": [
  {
   "cell_type": "code",
   "execution_count": 2,
   "id": "0ead16a5",
   "metadata": {},
   "outputs": [],
   "source": [
    "def file_list():\n",
    "    files = glob.glob(path)\n",
    "    new_files = []\n",
    "\n",
    "    for file in files:\n",
    "        file=file.replace(\"\\\\\",\"/\")\n",
    "        print(f\"Found file: {file}\")\n",
    "        new_files.append(file)\n",
    "    return new_files\n"
   ]
  }
 ],
 "metadata": {
  "kernelspec": {
   "display_name": "sales_sql",
   "language": "python",
   "name": "python3"
  },
  "language_info": {
   "codemirror_mode": {
    "name": "ipython",
    "version": 3
   },
   "file_extension": ".py",
   "mimetype": "text/x-python",
   "name": "python",
   "nbconvert_exporter": "python",
   "pygments_lexer": "ipython3",
   "version": "3.8.20"
  }
 },
 "nbformat": 4,
 "nbformat_minor": 5
}
